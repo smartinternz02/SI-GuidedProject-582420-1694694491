{
  "nbformat": 4,
  "nbformat_minor": 0,
  "metadata": {
    "colab": {
      "provenance": []
    },
    "kernelspec": {
      "name": "python3",
      "display_name": "Python 3"
    },
    "language_info": {
      "name": "python"
    }
  },
  "cells": [
    {
      "cell_type": "markdown",
      "source": [
        "# **ASSIGNMENT-2**\n",
        "Anushka Singh 21BCE6203"
      ],
      "metadata": {
        "id": "syBASNY5Pu6E"
      }
    },
    {
      "cell_type": "markdown",
      "source": [
        "**Task 1 : Download the dataset**\n",
        "\n",
        "Dataset House Price India has been downloaded successfully"
      ],
      "metadata": {
        "id": "xdAjmmC2QvCe"
      }
    },
    {
      "cell_type": "markdown",
      "source": [
        "**Task 2 : Load the dataset**"
      ],
      "metadata": {
        "id": "sCZbebLPRTuI"
      }
    },
    {
      "cell_type": "code",
      "execution_count": null,
      "metadata": {
        "id": "A8hWYr3qPlvC"
      },
      "outputs": [],
      "source": [
        "import pandas as pd\n",
        "import matplotlib.pyplot as plt\n",
        "from matplotlib import rcParams\n",
        "import seaborn as sns"
      ]
    },
    {
      "cell_type": "code",
      "source": [
        "df = pd.read_csv('/content/House Price India.csv')\n",
        "df.head()\n"
      ],
      "metadata": {
        "id": "i3uHih95Rgxg"
      },
      "execution_count": null,
      "outputs": []
    },
    {
      "cell_type": "markdown",
      "source": [
        "**Task 3 : Perform the Below Visualizations**"
      ],
      "metadata": {
        "id": "InqikJp5RvHi"
      }
    },
    {
      "cell_type": "markdown",
      "source": [
        "\n",
        "*  **Univariate Analysis**\n",
        "\n",
        "\n"
      ],
      "metadata": {
        "id": "oJLIF2rLR3b3"
      }
    },
    {
      "cell_type": "code",
      "source": [
        "# Univariate Analysis on single feature 'Lattitude'\n",
        "sns.distplot(df.Lattitude)"
      ],
      "metadata": {
        "id": "EK1eVgxdSCBS"
      },
      "execution_count": null,
      "outputs": []
    },
    {
      "cell_type": "markdown",
      "source": [
        "\n",
        "\n",
        "*   **Bivariate Analysis**\n",
        "\n"
      ],
      "metadata": {
        "id": "EO5Pe3dgTBWN"
      }
    },
    {
      "cell_type": "code",
      "source": [
        "# Bivariate Analysis between 'living area' and 'Price'\n",
        "sns.jointplot(x='living area',y='Price',data=df)\n"
      ],
      "metadata": {
        "id": "0cpkIswDTJLj"
      },
      "execution_count": null,
      "outputs": []
    },
    {
      "cell_type": "markdown",
      "source": [
        "\n",
        "\n",
        "*   **Multivariate Analysis**\n",
        "\n",
        "\n",
        "\n",
        "\n"
      ],
      "metadata": {
        "id": "ixQ1ptbLUM5E"
      }
    },
    {
      "cell_type": "code",
      "source": [
        "sns.pairplot(df)\n"
      ],
      "metadata": {
        "id": "GduWRLzjUTtO"
      },
      "execution_count": null,
      "outputs": []
    },
    {
      "cell_type": "markdown",
      "source": [
        "**Task 4 : Perform descriptive statistics on the dataset**"
      ],
      "metadata": {
        "id": "t0k0t1S4VXZ-"
      }
    },
    {
      "cell_type": "code",
      "source": [
        "df.describe()"
      ],
      "metadata": {
        "id": "To-IL9JbVWg3"
      },
      "execution_count": null,
      "outputs": []
    },
    {
      "cell_type": "markdown",
      "source": [
        "**Task 5 : Handle the Missing values**"
      ],
      "metadata": {
        "id": "ZUwwAgGHVoxa"
      }
    },
    {
      "cell_type": "code",
      "source": [
        "df.isnull().any() # to check if any null value is present in the dataset"
      ],
      "metadata": {
        "id": "JFDgpJ0YVvl3"
      },
      "execution_count": null,
      "outputs": []
    },
    {
      "cell_type": "markdown",
      "source": [
        "Since, all the features are **False**, hence, we do not have any null values for any of the features in the dataset"
      ],
      "metadata": {
        "id": "YDaLsPweV6lu"
      }
    }
  ]
}